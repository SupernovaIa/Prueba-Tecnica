{
 "cells": [
  {
   "cell_type": "markdown",
   "metadata": {},
   "source": [
    "Los datos cargados son externos, no son los obtenidos mediante el scrapeo porque han sido proporcionados al haberse caído la web."
   ]
  },
  {
   "cell_type": "code",
   "execution_count": 1,
   "metadata": {},
   "outputs": [],
   "source": [
    "# Working with Dataframes\n",
    "# -----------------------------------------------------------------------\n",
    "import pandas as pd\n",
    "\n",
    "# Path configuration for custom module imports\n",
    "# -----------------------------------------------------------------------\n",
    "import sys\n",
    "sys.path.append('../')  # Adds the parent directory to the path for custom module imports\n",
    "\n",
    "# Import custom functions to work with databases\n",
    "# -----------------------------------------------------------------------\n",
    "from src.support_db import create_db, table_creation, data_insertion"
   ]
  },
  {
   "cell_type": "markdown",
   "metadata": {},
   "source": [
    "### Carga de datos"
   ]
  },
  {
   "cell_type": "code",
   "execution_count": 2,
   "metadata": {},
   "outputs": [],
   "source": [
    "df_pelis = pd.read_csv('../new_data/peliculas.csv')\n",
    "df_detalles_pelis = pd.read_csv('../new_data/detalles_peliculas.csv')\n",
    "df_artista = pd.read_csv('../new_data/pelicula_artista.csv')\n",
    "df_detalles_artistas = pd.read_csv('../new_data/detalles_artistas.csv')"
   ]
  },
  {
   "cell_type": "markdown",
   "metadata": {},
   "source": [
    "---"
   ]
  },
  {
   "cell_type": "markdown",
   "metadata": {},
   "source": [
    "### Veamos los dataframes"
   ]
  },
  {
   "cell_type": "code",
   "execution_count": 3,
   "metadata": {},
   "outputs": [
    {
     "data": {
      "text/html": [
       "<div>\n",
       "<style scoped>\n",
       "    .dataframe tbody tr th:only-of-type {\n",
       "        vertical-align: middle;\n",
       "    }\n",
       "\n",
       "    .dataframe tbody tr th {\n",
       "        vertical-align: top;\n",
       "    }\n",
       "\n",
       "    .dataframe thead th {\n",
       "        text-align: right;\n",
       "    }\n",
       "</style>\n",
       "<table border=\"1\" class=\"dataframe\">\n",
       "  <thead>\n",
       "    <tr style=\"text-align: right;\">\n",
       "      <th></th>\n",
       "      <th>Tipo</th>\n",
       "      <th>Titulo</th>\n",
       "      <th>Año</th>\n",
       "      <th>Mes</th>\n",
       "      <th>Id</th>\n",
       "      <th>generos</th>\n",
       "    </tr>\n",
       "  </thead>\n",
       "  <tbody>\n",
       "    <tr>\n",
       "      <th>0</th>\n",
       "      <td>Movie</td>\n",
       "      <td>Las Travesuras de Super Chido</td>\n",
       "      <td>1990</td>\n",
       "      <td>10</td>\n",
       "      <td>tt0320656</td>\n",
       "      <td>Action</td>\n",
       "    </tr>\n",
       "    <tr>\n",
       "      <th>1</th>\n",
       "      <td>Movie</td>\n",
       "      <td>Velai Kidaichiruchu</td>\n",
       "      <td>1990</td>\n",
       "      <td>8</td>\n",
       "      <td>tt0318803</td>\n",
       "      <td>Action</td>\n",
       "    </tr>\n",
       "    <tr>\n",
       "      <th>2</th>\n",
       "      <td>Movie</td>\n",
       "      <td>Sor Batalla</td>\n",
       "      <td>1990</td>\n",
       "      <td>8</td>\n",
       "      <td>tt0320503</td>\n",
       "      <td>Action</td>\n",
       "    </tr>\n",
       "    <tr>\n",
       "      <th>3</th>\n",
       "      <td>Movie</td>\n",
       "      <td>Azaad Desh Ke Gulam</td>\n",
       "      <td>1990</td>\n",
       "      <td>4</td>\n",
       "      <td>tt0330019</td>\n",
       "      <td>Action</td>\n",
       "    </tr>\n",
       "    <tr>\n",
       "      <th>4</th>\n",
       "      <td>Movie</td>\n",
       "      <td>Suo ming fei dao</td>\n",
       "      <td>1991</td>\n",
       "      <td>11</td>\n",
       "      <td>tt0348147</td>\n",
       "      <td>Action</td>\n",
       "    </tr>\n",
       "  </tbody>\n",
       "</table>\n",
       "</div>"
      ],
      "text/plain": [
       "    Tipo                         Titulo   Año  Mes         Id generos\n",
       "0  Movie  Las Travesuras de Super Chido  1990   10  tt0320656  Action\n",
       "1  Movie            Velai Kidaichiruchu  1990    8  tt0318803  Action\n",
       "2  Movie                    Sor Batalla  1990    8  tt0320503  Action\n",
       "3  Movie            Azaad Desh Ke Gulam  1990    4  tt0330019  Action\n",
       "4  Movie               Suo ming fei dao  1991   11  tt0348147  Action"
      ]
     },
     "execution_count": 3,
     "metadata": {},
     "output_type": "execute_result"
    }
   ],
   "source": [
    "df_pelis.head()"
   ]
  },
  {
   "cell_type": "code",
   "execution_count": 4,
   "metadata": {},
   "outputs": [
    {
     "name": "stdout",
     "output_type": "stream",
     "text": [
      "<class 'pandas.core.frame.DataFrame'>\n",
      "RangeIndex: 1453 entries, 0 to 1452\n",
      "Data columns (total 6 columns):\n",
      " #   Column   Non-Null Count  Dtype \n",
      "---  ------   --------------  ----- \n",
      " 0   Tipo     1453 non-null   object\n",
      " 1   Titulo   1453 non-null   object\n",
      " 2   Año      1453 non-null   int64 \n",
      " 3   Mes      1453 non-null   int64 \n",
      " 4   Id       1453 non-null   object\n",
      " 5   generos  1453 non-null   object\n",
      "dtypes: int64(2), object(4)\n",
      "memory usage: 68.2+ KB\n"
     ]
    }
   ],
   "source": [
    "df_pelis.info()"
   ]
  },
  {
   "cell_type": "markdown",
   "metadata": {},
   "source": [
    "---"
   ]
  },
  {
   "cell_type": "code",
   "execution_count": 5,
   "metadata": {},
   "outputs": [
    {
     "data": {
      "text/html": [
       "<div>\n",
       "<style scoped>\n",
       "    .dataframe tbody tr th:only-of-type {\n",
       "        vertical-align: middle;\n",
       "    }\n",
       "\n",
       "    .dataframe tbody tr th {\n",
       "        vertical-align: top;\n",
       "    }\n",
       "\n",
       "    .dataframe thead th {\n",
       "        text-align: right;\n",
       "    }\n",
       "</style>\n",
       "<table border=\"1\" class=\"dataframe\">\n",
       "  <thead>\n",
       "    <tr style=\"text-align: right;\">\n",
       "      <th></th>\n",
       "      <th>titulo</th>\n",
       "      <th>cali_imdb</th>\n",
       "      <th>direc_imbd</th>\n",
       "      <th>guion_imbd</th>\n",
       "      <th>argum_imbd</th>\n",
       "      <th>durac_imbd</th>\n",
       "      <th>id_pelicula</th>\n",
       "    </tr>\n",
       "  </thead>\n",
       "  <tbody>\n",
       "    <tr>\n",
       "      <th>0</th>\n",
       "      <td>Las Travesuras de Super Chido</td>\n",
       "      <td>7.7</td>\n",
       "      <td>Alejandro Todd</td>\n",
       "      <td>Óscar FentanesJuan Garrido</td>\n",
       "      <td>Desconocido</td>\n",
       "      <td>1h 35min</td>\n",
       "      <td>tt0320656</td>\n",
       "    </tr>\n",
       "    <tr>\n",
       "      <th>1</th>\n",
       "      <td>Velai Kidaichiruchu</td>\n",
       "      <td>5.2</td>\n",
       "      <td>P. Vasu</td>\n",
       "      <td>SathyarajGautamiAnandraj</td>\n",
       "      <td>Baasha, a gangster, controls a whole village w...</td>\n",
       "      <td>Desconocido</td>\n",
       "      <td>tt0318803</td>\n",
       "    </tr>\n",
       "    <tr>\n",
       "      <th>2</th>\n",
       "      <td>Sor Batalla</td>\n",
       "      <td>6.6</td>\n",
       "      <td>Jesús Fragoso Montoya</td>\n",
       "      <td>Fernando Galiana</td>\n",
       "      <td>As punishment for participating in a contest T...</td>\n",
       "      <td>1h 34min</td>\n",
       "      <td>tt0320503</td>\n",
       "    </tr>\n",
       "    <tr>\n",
       "      <th>3</th>\n",
       "      <td>Azaad Desh Ke Gulam</td>\n",
       "      <td>5.3</td>\n",
       "      <td>S.A. Chandrashekhar</td>\n",
       "      <td>RekhaRishi KapoorJackie Shroff</td>\n",
       "      <td>Bharti, a law student from a rich family, live...</td>\n",
       "      <td>2h 33min</td>\n",
       "      <td>tt0330019</td>\n",
       "    </tr>\n",
       "    <tr>\n",
       "      <th>4</th>\n",
       "      <td>Suo ming fei dao</td>\n",
       "      <td>NaN</td>\n",
       "      <td>Desconocido</td>\n",
       "      <td>Desconocido</td>\n",
       "      <td>Desconocido</td>\n",
       "      <td>1h 24min</td>\n",
       "      <td>tt0348147</td>\n",
       "    </tr>\n",
       "  </tbody>\n",
       "</table>\n",
       "</div>"
      ],
      "text/plain": [
       "                          titulo  cali_imdb             direc_imbd  \\\n",
       "0  Las Travesuras de Super Chido        7.7         Alejandro Todd   \n",
       "1            Velai Kidaichiruchu        5.2                P. Vasu   \n",
       "2                    Sor Batalla        6.6  Jesús Fragoso Montoya   \n",
       "3            Azaad Desh Ke Gulam        5.3    S.A. Chandrashekhar   \n",
       "4               Suo ming fei dao        NaN            Desconocido   \n",
       "\n",
       "                       guion_imbd  \\\n",
       "0      Óscar FentanesJuan Garrido   \n",
       "1        SathyarajGautamiAnandraj   \n",
       "2                Fernando Galiana   \n",
       "3  RekhaRishi KapoorJackie Shroff   \n",
       "4                     Desconocido   \n",
       "\n",
       "                                          argum_imbd   durac_imbd id_pelicula  \n",
       "0                                        Desconocido     1h 35min   tt0320656  \n",
       "1  Baasha, a gangster, controls a whole village w...  Desconocido   tt0318803  \n",
       "2  As punishment for participating in a contest T...     1h 34min   tt0320503  \n",
       "3  Bharti, a law student from a rich family, live...     2h 33min   tt0330019  \n",
       "4                                        Desconocido     1h 24min   tt0348147  "
      ]
     },
     "execution_count": 5,
     "metadata": {},
     "output_type": "execute_result"
    }
   ],
   "source": [
    "df_detalles_pelis.head()"
   ]
  },
  {
   "cell_type": "code",
   "execution_count": 6,
   "metadata": {},
   "outputs": [
    {
     "name": "stdout",
     "output_type": "stream",
     "text": [
      "<class 'pandas.core.frame.DataFrame'>\n",
      "RangeIndex: 1453 entries, 0 to 1452\n",
      "Data columns (total 7 columns):\n",
      " #   Column       Non-Null Count  Dtype  \n",
      "---  ------       --------------  -----  \n",
      " 0   titulo       1453 non-null   object \n",
      " 1   cali_imdb    961 non-null    float64\n",
      " 2   direc_imbd   1453 non-null   object \n",
      " 3   guion_imbd   1453 non-null   object \n",
      " 4   argum_imbd   1453 non-null   object \n",
      " 5   durac_imbd   1453 non-null   object \n",
      " 6   id_pelicula  1453 non-null   object \n",
      "dtypes: float64(1), object(6)\n",
      "memory usage: 79.6+ KB\n"
     ]
    }
   ],
   "source": [
    "df_detalles_pelis.info()"
   ]
  },
  {
   "cell_type": "markdown",
   "metadata": {},
   "source": [
    "Realmente estas tablas contienen el mismo número de entradas por lo que podemos juntarlas."
   ]
  },
  {
   "cell_type": "code",
   "execution_count": 7,
   "metadata": {},
   "outputs": [],
   "source": [
    "df_pelis_final = df_pelis.merge(df_detalles_pelis, left_on='Id', right_on='id_pelicula')"
   ]
  },
  {
   "cell_type": "code",
   "execution_count": 8,
   "metadata": {},
   "outputs": [
    {
     "data": {
      "text/html": [
       "<div>\n",
       "<style scoped>\n",
       "    .dataframe tbody tr th:only-of-type {\n",
       "        vertical-align: middle;\n",
       "    }\n",
       "\n",
       "    .dataframe tbody tr th {\n",
       "        vertical-align: top;\n",
       "    }\n",
       "\n",
       "    .dataframe thead th {\n",
       "        text-align: right;\n",
       "    }\n",
       "</style>\n",
       "<table border=\"1\" class=\"dataframe\">\n",
       "  <thead>\n",
       "    <tr style=\"text-align: right;\">\n",
       "      <th></th>\n",
       "      <th>Tipo</th>\n",
       "      <th>Titulo</th>\n",
       "      <th>Año</th>\n",
       "      <th>Mes</th>\n",
       "      <th>Id</th>\n",
       "      <th>generos</th>\n",
       "      <th>titulo</th>\n",
       "      <th>cali_imdb</th>\n",
       "      <th>direc_imbd</th>\n",
       "      <th>guion_imbd</th>\n",
       "      <th>argum_imbd</th>\n",
       "      <th>durac_imbd</th>\n",
       "      <th>id_pelicula</th>\n",
       "    </tr>\n",
       "  </thead>\n",
       "  <tbody>\n",
       "    <tr>\n",
       "      <th>0</th>\n",
       "      <td>Movie</td>\n",
       "      <td>Las Travesuras de Super Chido</td>\n",
       "      <td>1990</td>\n",
       "      <td>10</td>\n",
       "      <td>tt0320656</td>\n",
       "      <td>Action</td>\n",
       "      <td>Las Travesuras de Super Chido</td>\n",
       "      <td>7.7</td>\n",
       "      <td>Alejandro Todd</td>\n",
       "      <td>Óscar FentanesJuan Garrido</td>\n",
       "      <td>Desconocido</td>\n",
       "      <td>1h 35min</td>\n",
       "      <td>tt0320656</td>\n",
       "    </tr>\n",
       "    <tr>\n",
       "      <th>1</th>\n",
       "      <td>Movie</td>\n",
       "      <td>Velai Kidaichiruchu</td>\n",
       "      <td>1990</td>\n",
       "      <td>8</td>\n",
       "      <td>tt0318803</td>\n",
       "      <td>Action</td>\n",
       "      <td>Velai Kidaichiruchu</td>\n",
       "      <td>5.2</td>\n",
       "      <td>P. Vasu</td>\n",
       "      <td>SathyarajGautamiAnandraj</td>\n",
       "      <td>Baasha, a gangster, controls a whole village w...</td>\n",
       "      <td>Desconocido</td>\n",
       "      <td>tt0318803</td>\n",
       "    </tr>\n",
       "    <tr>\n",
       "      <th>2</th>\n",
       "      <td>Movie</td>\n",
       "      <td>Sor Batalla</td>\n",
       "      <td>1990</td>\n",
       "      <td>8</td>\n",
       "      <td>tt0320503</td>\n",
       "      <td>Action</td>\n",
       "      <td>Sor Batalla</td>\n",
       "      <td>6.6</td>\n",
       "      <td>Jesús Fragoso Montoya</td>\n",
       "      <td>Fernando Galiana</td>\n",
       "      <td>As punishment for participating in a contest T...</td>\n",
       "      <td>1h 34min</td>\n",
       "      <td>tt0320503</td>\n",
       "    </tr>\n",
       "    <tr>\n",
       "      <th>3</th>\n",
       "      <td>Movie</td>\n",
       "      <td>Azaad Desh Ke Gulam</td>\n",
       "      <td>1990</td>\n",
       "      <td>4</td>\n",
       "      <td>tt0330019</td>\n",
       "      <td>Action</td>\n",
       "      <td>Azaad Desh Ke Gulam</td>\n",
       "      <td>5.3</td>\n",
       "      <td>S.A. Chandrashekhar</td>\n",
       "      <td>RekhaRishi KapoorJackie Shroff</td>\n",
       "      <td>Bharti, a law student from a rich family, live...</td>\n",
       "      <td>2h 33min</td>\n",
       "      <td>tt0330019</td>\n",
       "    </tr>\n",
       "    <tr>\n",
       "      <th>4</th>\n",
       "      <td>Movie</td>\n",
       "      <td>Suo ming fei dao</td>\n",
       "      <td>1991</td>\n",
       "      <td>11</td>\n",
       "      <td>tt0348147</td>\n",
       "      <td>Action</td>\n",
       "      <td>Suo ming fei dao</td>\n",
       "      <td>NaN</td>\n",
       "      <td>Desconocido</td>\n",
       "      <td>Desconocido</td>\n",
       "      <td>Desconocido</td>\n",
       "      <td>1h 24min</td>\n",
       "      <td>tt0348147</td>\n",
       "    </tr>\n",
       "  </tbody>\n",
       "</table>\n",
       "</div>"
      ],
      "text/plain": [
       "    Tipo                         Titulo   Año  Mes         Id generos  \\\n",
       "0  Movie  Las Travesuras de Super Chido  1990   10  tt0320656  Action   \n",
       "1  Movie            Velai Kidaichiruchu  1990    8  tt0318803  Action   \n",
       "2  Movie                    Sor Batalla  1990    8  tt0320503  Action   \n",
       "3  Movie            Azaad Desh Ke Gulam  1990    4  tt0330019  Action   \n",
       "4  Movie               Suo ming fei dao  1991   11  tt0348147  Action   \n",
       "\n",
       "                          titulo  cali_imdb             direc_imbd  \\\n",
       "0  Las Travesuras de Super Chido        7.7         Alejandro Todd   \n",
       "1            Velai Kidaichiruchu        5.2                P. Vasu   \n",
       "2                    Sor Batalla        6.6  Jesús Fragoso Montoya   \n",
       "3            Azaad Desh Ke Gulam        5.3    S.A. Chandrashekhar   \n",
       "4               Suo ming fei dao        NaN            Desconocido   \n",
       "\n",
       "                       guion_imbd  \\\n",
       "0      Óscar FentanesJuan Garrido   \n",
       "1        SathyarajGautamiAnandraj   \n",
       "2                Fernando Galiana   \n",
       "3  RekhaRishi KapoorJackie Shroff   \n",
       "4                     Desconocido   \n",
       "\n",
       "                                          argum_imbd   durac_imbd id_pelicula  \n",
       "0                                        Desconocido     1h 35min   tt0320656  \n",
       "1  Baasha, a gangster, controls a whole village w...  Desconocido   tt0318803  \n",
       "2  As punishment for participating in a contest T...     1h 34min   tt0320503  \n",
       "3  Bharti, a law student from a rich family, live...     2h 33min   tt0330019  \n",
       "4                                        Desconocido     1h 24min   tt0348147  "
      ]
     },
     "execution_count": 8,
     "metadata": {},
     "output_type": "execute_result"
    }
   ],
   "source": [
    "df_pelis_final.head()"
   ]
  },
  {
   "cell_type": "code",
   "execution_count": 9,
   "metadata": {},
   "outputs": [
    {
     "name": "stdout",
     "output_type": "stream",
     "text": [
      "<class 'pandas.core.frame.DataFrame'>\n",
      "RangeIndex: 1453 entries, 0 to 1452\n",
      "Data columns (total 13 columns):\n",
      " #   Column       Non-Null Count  Dtype  \n",
      "---  ------       --------------  -----  \n",
      " 0   Tipo         1453 non-null   object \n",
      " 1   Titulo       1453 non-null   object \n",
      " 2   Año          1453 non-null   int64  \n",
      " 3   Mes          1453 non-null   int64  \n",
      " 4   Id           1453 non-null   object \n",
      " 5   generos      1453 non-null   object \n",
      " 6   titulo       1453 non-null   object \n",
      " 7   cali_imdb    961 non-null    float64\n",
      " 8   direc_imbd   1453 non-null   object \n",
      " 9   guion_imbd   1453 non-null   object \n",
      " 10  argum_imbd   1453 non-null   object \n",
      " 11  durac_imbd   1453 non-null   object \n",
      " 12  id_pelicula  1453 non-null   object \n",
      "dtypes: float64(1), int64(2), object(10)\n",
      "memory usage: 147.7+ KB\n"
     ]
    }
   ],
   "source": [
    "df_pelis_final.info()"
   ]
  },
  {
   "cell_type": "markdown",
   "metadata": {},
   "source": [
    "---"
   ]
  },
  {
   "cell_type": "code",
   "execution_count": 10,
   "metadata": {},
   "outputs": [
    {
     "data": {
      "text/html": [
       "<div>\n",
       "<style scoped>\n",
       "    .dataframe tbody tr th:only-of-type {\n",
       "        vertical-align: middle;\n",
       "    }\n",
       "\n",
       "    .dataframe tbody tr th {\n",
       "        vertical-align: top;\n",
       "    }\n",
       "\n",
       "    .dataframe thead th {\n",
       "        text-align: right;\n",
       "    }\n",
       "</style>\n",
       "<table border=\"1\" class=\"dataframe\">\n",
       "  <thead>\n",
       "    <tr style=\"text-align: right;\">\n",
       "      <th></th>\n",
       "      <th>Movie ID</th>\n",
       "      <th>Actriz_Actor</th>\n",
       "    </tr>\n",
       "  </thead>\n",
       "  <tbody>\n",
       "    <tr>\n",
       "      <th>0</th>\n",
       "      <td>tt0110660</td>\n",
       "      <td>Tony Ka Fai Leung</td>\n",
       "    </tr>\n",
       "    <tr>\n",
       "      <th>1</th>\n",
       "      <td>tt0110363</td>\n",
       "      <td>Luke Edwards</td>\n",
       "    </tr>\n",
       "    <tr>\n",
       "      <th>2</th>\n",
       "      <td>tt0110397</td>\n",
       "      <td>Jennifer Barker</td>\n",
       "    </tr>\n",
       "    <tr>\n",
       "      <th>3</th>\n",
       "      <td>tt0111045</td>\n",
       "      <td>Miklós Déri</td>\n",
       "    </tr>\n",
       "    <tr>\n",
       "      <th>4</th>\n",
       "      <td>tt0111653</td>\n",
       "      <td>Joe Bays</td>\n",
       "    </tr>\n",
       "  </tbody>\n",
       "</table>\n",
       "</div>"
      ],
      "text/plain": [
       "    Movie ID       Actriz_Actor\n",
       "0  tt0110660  Tony Ka Fai Leung\n",
       "1  tt0110363       Luke Edwards\n",
       "2  tt0110397    Jennifer Barker\n",
       "3  tt0111045        Miklós Déri\n",
       "4  tt0111653           Joe Bays"
      ]
     },
     "execution_count": 10,
     "metadata": {},
     "output_type": "execute_result"
    }
   ],
   "source": [
    "df_artista.head()"
   ]
  },
  {
   "cell_type": "code",
   "execution_count": 11,
   "metadata": {},
   "outputs": [
    {
     "name": "stdout",
     "output_type": "stream",
     "text": [
      "<class 'pandas.core.frame.DataFrame'>\n",
      "RangeIndex: 14529 entries, 0 to 14528\n",
      "Data columns (total 2 columns):\n",
      " #   Column        Non-Null Count  Dtype \n",
      "---  ------        --------------  ----- \n",
      " 0   Movie ID      14529 non-null  object\n",
      " 1   Actriz_Actor  14529 non-null  object\n",
      "dtypes: object(2)\n",
      "memory usage: 227.1+ KB\n"
     ]
    }
   ],
   "source": [
    "df_artista.info()"
   ]
  },
  {
   "cell_type": "code",
   "execution_count": 12,
   "metadata": {},
   "outputs": [
    {
     "data": {
      "text/html": [
       "<div>\n",
       "<style scoped>\n",
       "    .dataframe tbody tr th:only-of-type {\n",
       "        vertical-align: middle;\n",
       "    }\n",
       "\n",
       "    .dataframe tbody tr th {\n",
       "        vertical-align: top;\n",
       "    }\n",
       "\n",
       "    .dataframe thead th {\n",
       "        text-align: right;\n",
       "    }\n",
       "</style>\n",
       "<table border=\"1\" class=\"dataframe\">\n",
       "  <thead>\n",
       "    <tr style=\"text-align: right;\">\n",
       "      <th></th>\n",
       "      <th>Movie ID</th>\n",
       "      <th>Actriz_Actor</th>\n",
       "    </tr>\n",
       "  </thead>\n",
       "  <tbody>\n",
       "    <tr>\n",
       "      <th>0</th>\n",
       "      <td>tt0110660</td>\n",
       "      <td>Tony Ka Fai Leung</td>\n",
       "    </tr>\n",
       "    <tr>\n",
       "      <th>1</th>\n",
       "      <td>tt0110363</td>\n",
       "      <td>Luke Edwards</td>\n",
       "    </tr>\n",
       "    <tr>\n",
       "      <th>2</th>\n",
       "      <td>tt0110397</td>\n",
       "      <td>Jennifer Barker</td>\n",
       "    </tr>\n",
       "    <tr>\n",
       "      <th>3</th>\n",
       "      <td>tt0111045</td>\n",
       "      <td>Miklós Déri</td>\n",
       "    </tr>\n",
       "    <tr>\n",
       "      <th>4</th>\n",
       "      <td>tt0111653</td>\n",
       "      <td>Joe Bays</td>\n",
       "    </tr>\n",
       "    <tr>\n",
       "      <th>...</th>\n",
       "      <td>...</td>\n",
       "      <td>...</td>\n",
       "    </tr>\n",
       "    <tr>\n",
       "      <th>14504</th>\n",
       "      <td>tt10709060</td>\n",
       "      <td>Kendra Kuhnhofer</td>\n",
       "    </tr>\n",
       "    <tr>\n",
       "      <th>14514</th>\n",
       "      <td>tt14142640</td>\n",
       "      <td>Prakash</td>\n",
       "    </tr>\n",
       "    <tr>\n",
       "      <th>14519</th>\n",
       "      <td>tt18688348</td>\n",
       "      <td>Oleg Primogenov</td>\n",
       "    </tr>\n",
       "    <tr>\n",
       "      <th>14522</th>\n",
       "      <td>tt27241513</td>\n",
       "      <td>Georgiy Topolaga</td>\n",
       "    </tr>\n",
       "    <tr>\n",
       "      <th>14527</th>\n",
       "      <td>tt27262238</td>\n",
       "      <td>Jacob Schindler</td>\n",
       "    </tr>\n",
       "  </tbody>\n",
       "</table>\n",
       "<p>11231 rows × 2 columns</p>\n",
       "</div>"
      ],
      "text/plain": [
       "         Movie ID       Actriz_Actor\n",
       "0       tt0110660  Tony Ka Fai Leung\n",
       "1       tt0110363       Luke Edwards\n",
       "2       tt0110397    Jennifer Barker\n",
       "3       tt0111045        Miklós Déri\n",
       "4       tt0111653           Joe Bays\n",
       "...           ...                ...\n",
       "14504  tt10709060   Kendra Kuhnhofer\n",
       "14514  tt14142640            Prakash\n",
       "14519  tt18688348    Oleg Primogenov\n",
       "14522  tt27241513   Georgiy Topolaga\n",
       "14527  tt27262238    Jacob Schindler\n",
       "\n",
       "[11231 rows x 2 columns]"
      ]
     },
     "execution_count": 12,
     "metadata": {},
     "output_type": "execute_result"
    }
   ],
   "source": [
    "df_artista.drop_duplicates()"
   ]
  },
  {
   "cell_type": "markdown",
   "metadata": {},
   "source": [
    "---"
   ]
  },
  {
   "cell_type": "code",
   "execution_count": 13,
   "metadata": {},
   "outputs": [
    {
     "data": {
      "text/html": [
       "<div>\n",
       "<style scoped>\n",
       "    .dataframe tbody tr th:only-of-type {\n",
       "        vertical-align: middle;\n",
       "    }\n",
       "\n",
       "    .dataframe tbody tr th {\n",
       "        vertical-align: top;\n",
       "    }\n",
       "\n",
       "    .dataframe thead th {\n",
       "        text-align: right;\n",
       "    }\n",
       "</style>\n",
       "<table border=\"1\" class=\"dataframe\">\n",
       "  <thead>\n",
       "    <tr style=\"text-align: right;\">\n",
       "      <th></th>\n",
       "      <th>actr</th>\n",
       "      <th>año_nac</th>\n",
       "      <th>conocido_por</th>\n",
       "      <th>que_hace</th>\n",
       "      <th>premios</th>\n",
       "    </tr>\n",
       "  </thead>\n",
       "  <tbody>\n",
       "    <tr>\n",
       "      <th>0</th>\n",
       "      <td>A. Gunaseelan</td>\n",
       "      <td>9999</td>\n",
       "      <td>'Mandela'</td>\n",
       "      <td>Casting Department, Actress, Casting Director</td>\n",
       "      <td>1 nomination</td>\n",
       "    </tr>\n",
       "    <tr>\n",
       "      <th>1</th>\n",
       "      <td>A. Michelle Harleston</td>\n",
       "      <td>9999</td>\n",
       "      <td>'Murder by Numbers', 'The Mark of a Killer', '...</td>\n",
       "      <td>Actor</td>\n",
       "      <td>no tiene premios</td>\n",
       "    </tr>\n",
       "    <tr>\n",
       "      <th>2</th>\n",
       "      <td>A.C. Peterson</td>\n",
       "      <td>9999</td>\n",
       "      <td>'Narc', 'Shanghai Noon', 'Shooter', 'The Last ...</td>\n",
       "      <td>Actor</td>\n",
       "      <td>no tiene premios</td>\n",
       "    </tr>\n",
       "    <tr>\n",
       "      <th>3</th>\n",
       "      <td>A.V.S. Subramanyam</td>\n",
       "      <td>1957</td>\n",
       "      <td>'Roommates', 'Uncle', 'Ori Nee Prema Bangaramk...</td>\n",
       "      <td>Actor, Director, Writer</td>\n",
       "      <td>no tiene premios</td>\n",
       "    </tr>\n",
       "    <tr>\n",
       "      <th>4</th>\n",
       "      <td>Øyvind Øvrebø</td>\n",
       "      <td>9999</td>\n",
       "      <td>'Tingen, Edderkoppen', 'Demenskoret', 'Kristia...</td>\n",
       "      <td>Actress, Additional Crew</td>\n",
       "      <td>no tiene premios</td>\n",
       "    </tr>\n",
       "  </tbody>\n",
       "</table>\n",
       "</div>"
      ],
      "text/plain": [
       "                    actr  año_nac  \\\n",
       "0          A. Gunaseelan     9999   \n",
       "1  A. Michelle Harleston     9999   \n",
       "2          A.C. Peterson     9999   \n",
       "3     A.V.S. Subramanyam     1957   \n",
       "4          Øyvind Øvrebø     9999   \n",
       "\n",
       "                                        conocido_por  \\\n",
       "0                                          'Mandela'   \n",
       "1  'Murder by Numbers', 'The Mark of a Killer', '...   \n",
       "2  'Narc', 'Shanghai Noon', 'Shooter', 'The Last ...   \n",
       "3  'Roommates', 'Uncle', 'Ori Nee Prema Bangaramk...   \n",
       "4  'Tingen, Edderkoppen', 'Demenskoret', 'Kristia...   \n",
       "\n",
       "                                        que_hace           premios  \n",
       "0  Casting Department, Actress, Casting Director      1 nomination  \n",
       "1                                          Actor  no tiene premios  \n",
       "2                                          Actor  no tiene premios  \n",
       "3                        Actor, Director, Writer  no tiene premios  \n",
       "4                       Actress, Additional Crew  no tiene premios  "
      ]
     },
     "execution_count": 13,
     "metadata": {},
     "output_type": "execute_result"
    }
   ],
   "source": [
    "df_detalles_artistas.head()"
   ]
  },
  {
   "cell_type": "code",
   "execution_count": 14,
   "metadata": {},
   "outputs": [
    {
     "name": "stdout",
     "output_type": "stream",
     "text": [
      "<class 'pandas.core.frame.DataFrame'>\n",
      "RangeIndex: 9907 entries, 0 to 9906\n",
      "Data columns (total 5 columns):\n",
      " #   Column        Non-Null Count  Dtype \n",
      "---  ------        --------------  ----- \n",
      " 0   actr          9907 non-null   object\n",
      " 1   año_nac       9907 non-null   int64 \n",
      " 2   conocido_por  9907 non-null   object\n",
      " 3   que_hace      9907 non-null   object\n",
      " 4   premios       9907 non-null   object\n",
      "dtypes: int64(1), object(4)\n",
      "memory usage: 387.1+ KB\n"
     ]
    }
   ],
   "source": [
    "df_detalles_artistas.info()"
   ]
  },
  {
   "cell_type": "markdown",
   "metadata": {},
   "source": [
    "La tabla de artistas es un paso intermedio para relacionarla con las películas, vamos a dejar ambas pero comprobemos que los nombres son únicos y no hay artistas con nombres iguales, lo cual podría ser en cuyo caso la mejor práctica sería asignar un ID a cada artista"
   ]
  },
  {
   "cell_type": "code",
   "execution_count": 15,
   "metadata": {},
   "outputs": [
    {
     "data": {
      "text/plain": [
       "0"
      ]
     },
     "execution_count": 15,
     "metadata": {},
     "output_type": "execute_result"
    }
   ],
   "source": [
    "df_detalles_artistas['actr'].duplicated().sum()"
   ]
  },
  {
   "cell_type": "markdown",
   "metadata": {},
   "source": [
    "Vemos que no hay nombres duplicados por lo que vamos simplemente a usar el nombre como identificador. En próximos pasos, si queremos que el proyecto sea escalable deberíamos introducir un id único por artista."
   ]
  },
  {
   "cell_type": "markdown",
   "metadata": {},
   "source": [
    "Antes de nada veamos los años de nacimiento."
   ]
  },
  {
   "cell_type": "code",
   "execution_count": 16,
   "metadata": {},
   "outputs": [
    {
     "data": {
      "text/plain": [
       "año_nac\n",
       "9999    5821\n",
       "1965     101\n",
       "1970     101\n",
       "1969      95\n",
       "1974      91\n",
       "        ... \n",
       "1876       1\n",
       "1895       1\n",
       "2009       1\n",
       "2010       1\n",
       "1860       1\n",
       "Name: count, Length: 115, dtype: int64"
      ]
     },
     "execution_count": 16,
     "metadata": {},
     "output_type": "execute_result"
    }
   ],
   "source": [
    "df_detalles_artistas['año_nac'].value_counts()"
   ]
  },
  {
   "cell_type": "markdown",
   "metadata": {},
   "source": [
    "Parece que hay algunos valores erróneos pero por el momento vamos a dejarlos así. Deberíamos corregirlos con los valores reales pero esto requiere de hacer el scrapeo de los mismos y se supone que estos datos ya están scrapeados, pero en futuros pasos debemos hacer esto."
   ]
  },
  {
   "cell_type": "markdown",
   "metadata": {},
   "source": [
    "---"
   ]
  },
  {
   "cell_type": "markdown",
   "metadata": {},
   "source": [
    "Entonces, ¿qué tablas tenemos?"
   ]
  },
  {
   "cell_type": "code",
   "execution_count": 17,
   "metadata": {},
   "outputs": [
    {
     "data": {
      "text/plain": [
       "True"
      ]
     },
     "execution_count": 17,
     "metadata": {},
     "output_type": "execute_result"
    }
   ],
   "source": [
    "all(df_pelis_final['Id'] == df_pelis_final['id_pelicula'])"
   ]
  },
  {
   "cell_type": "markdown",
   "metadata": {},
   "source": [
    "Como Id e id_pelicula están repetidos quitamos uno de ellos. Es normal ya que son las columnas por las que hemos unido los originales."
   ]
  },
  {
   "cell_type": "code",
   "execution_count": 18,
   "metadata": {},
   "outputs": [],
   "source": [
    "df_pelis_final.drop(columns='id_pelicula', inplace=True)"
   ]
  },
  {
   "cell_type": "code",
   "execution_count": 19,
   "metadata": {},
   "outputs": [
    {
     "data": {
      "text/html": [
       "<div>\n",
       "<style scoped>\n",
       "    .dataframe tbody tr th:only-of-type {\n",
       "        vertical-align: middle;\n",
       "    }\n",
       "\n",
       "    .dataframe tbody tr th {\n",
       "        vertical-align: top;\n",
       "    }\n",
       "\n",
       "    .dataframe thead th {\n",
       "        text-align: right;\n",
       "    }\n",
       "</style>\n",
       "<table border=\"1\" class=\"dataframe\">\n",
       "  <thead>\n",
       "    <tr style=\"text-align: right;\">\n",
       "      <th></th>\n",
       "      <th>Tipo</th>\n",
       "      <th>Titulo</th>\n",
       "      <th>Año</th>\n",
       "      <th>Mes</th>\n",
       "      <th>Id</th>\n",
       "      <th>generos</th>\n",
       "      <th>titulo</th>\n",
       "      <th>cali_imdb</th>\n",
       "      <th>direc_imbd</th>\n",
       "      <th>guion_imbd</th>\n",
       "      <th>argum_imbd</th>\n",
       "      <th>durac_imbd</th>\n",
       "    </tr>\n",
       "  </thead>\n",
       "  <tbody>\n",
       "    <tr>\n",
       "      <th>21</th>\n",
       "      <td>Movie</td>\n",
       "      <td>Kôshoku kunoichi ninpô-chô: Vâjin sunaipâ - bi...</td>\n",
       "      <td>1997</td>\n",
       "      <td>10</td>\n",
       "      <td>tt0288305</td>\n",
       "      <td>Action</td>\n",
       "      <td>KÃ´shoku kunoichi ninpÃ´-chÃ´: VÃ¢jin sunaipÃ¢...</td>\n",
       "      <td>6.0</td>\n",
       "      <td>Mototsugu Watanabe</td>\n",
       "      <td>Takao NakanoMototsugu Watanabe</td>\n",
       "      <td>Toranaga is a good-for-nothing loser but happe...</td>\n",
       "      <td>1h 19min</td>\n",
       "    </tr>\n",
       "    <tr>\n",
       "      <th>52</th>\n",
       "      <td>Movie</td>\n",
       "      <td>Camp X-Ray: Ghosts of Guantánamo Bay</td>\n",
       "      <td>2004</td>\n",
       "      <td>9</td>\n",
       "      <td>tt0418587</td>\n",
       "      <td>Action</td>\n",
       "      <td>Camp X-Ray: Ghosts of GuantÃ¡namo Bay</td>\n",
       "      <td>6.0</td>\n",
       "      <td>Desconocido</td>\n",
       "      <td>Desconocido</td>\n",
       "      <td>Desconocido</td>\n",
       "      <td>1h 30min</td>\n",
       "    </tr>\n",
       "    <tr>\n",
       "      <th>88</th>\n",
       "      <td>Short</td>\n",
       "      <td>Mashin Sentai Kirameijâ Za Mûbî: Bî-Bappu Dorîmu</td>\n",
       "      <td>2021</td>\n",
       "      <td>2</td>\n",
       "      <td>tt11928952</td>\n",
       "      <td>Action</td>\n",
       "      <td>Mashin Sentai KirameijÃ¢ Za MÃ»bÃ®: BÃ®-Bappu ...</td>\n",
       "      <td>7.1</td>\n",
       "      <td>Kyohei Yamaguchi</td>\n",
       "      <td>Naruhisa Arakawa</td>\n",
       "      <td>Desconocido</td>\n",
       "      <td>39min</td>\n",
       "    </tr>\n",
       "    <tr>\n",
       "      <th>117</th>\n",
       "      <td>Movie</td>\n",
       "      <td>Glädjekällan</td>\n",
       "      <td>1993</td>\n",
       "      <td>11</td>\n",
       "      <td>tt0107019</td>\n",
       "      <td>Drama</td>\n",
       "      <td>GlÃ¤djekÃ¤llan</td>\n",
       "      <td>6.5</td>\n",
       "      <td>Richard Hobert</td>\n",
       "      <td>Richard Hobert</td>\n",
       "      <td>This is story about an elderly man whose wife ...</td>\n",
       "      <td>1h 29min</td>\n",
       "    </tr>\n",
       "    <tr>\n",
       "      <th>125</th>\n",
       "      <td>Movie</td>\n",
       "      <td>Le fils préféré</td>\n",
       "      <td>1994</td>\n",
       "      <td>12</td>\n",
       "      <td>tt0109800</td>\n",
       "      <td>Drama</td>\n",
       "      <td>Le fils prÃ©fÃ©rÃ©</td>\n",
       "      <td>7.0</td>\n",
       "      <td>Nicole Garcia</td>\n",
       "      <td>Nicole GarciaFrançois DupeyronJacques Fieschi</td>\n",
       "      <td>A film shows a family through an adult man's f...</td>\n",
       "      <td>1h 40min</td>\n",
       "    </tr>\n",
       "  </tbody>\n",
       "</table>\n",
       "</div>"
      ],
      "text/plain": [
       "      Tipo                                             Titulo   Año  Mes  \\\n",
       "21   Movie  Kôshoku kunoichi ninpô-chô: Vâjin sunaipâ - bi...  1997   10   \n",
       "52   Movie               Camp X-Ray: Ghosts of Guantánamo Bay  2004    9   \n",
       "88   Short   Mashin Sentai Kirameijâ Za Mûbî: Bî-Bappu Dorîmu  2021    2   \n",
       "117  Movie                                       Glädjekällan  1993   11   \n",
       "125  Movie                                    Le fils préféré  1994   12   \n",
       "\n",
       "             Id generos                                             titulo  \\\n",
       "21    tt0288305  Action  KÃ´shoku kunoichi ninpÃ´-chÃ´: VÃ¢jin sunaipÃ¢...   \n",
       "52    tt0418587  Action              Camp X-Ray: Ghosts of GuantÃ¡namo Bay   \n",
       "88   tt11928952  Action  Mashin Sentai KirameijÃ¢ Za MÃ»bÃ®: BÃ®-Bappu ...   \n",
       "117   tt0107019   Drama                                     GlÃ¤djekÃ¤llan   \n",
       "125   tt0109800   Drama                                 Le fils prÃ©fÃ©rÃ©   \n",
       "\n",
       "     cali_imdb          direc_imbd  \\\n",
       "21         6.0  Mototsugu Watanabe   \n",
       "52         6.0         Desconocido   \n",
       "88         7.1    Kyohei Yamaguchi   \n",
       "117        6.5      Richard Hobert   \n",
       "125        7.0       Nicole Garcia   \n",
       "\n",
       "                                        guion_imbd  \\\n",
       "21                  Takao NakanoMototsugu Watanabe   \n",
       "52                                     Desconocido   \n",
       "88                                Naruhisa Arakawa   \n",
       "117                                 Richard Hobert   \n",
       "125  Nicole GarciaFrançois DupeyronJacques Fieschi   \n",
       "\n",
       "                                            argum_imbd durac_imbd  \n",
       "21   Toranaga is a good-for-nothing loser but happe...   1h 19min  \n",
       "52                                         Desconocido   1h 30min  \n",
       "88                                         Desconocido      39min  \n",
       "117  This is story about an elderly man whose wife ...   1h 29min  \n",
       "125  A film shows a family through an adult man's f...   1h 40min  "
      ]
     },
     "execution_count": 19,
     "metadata": {},
     "output_type": "execute_result"
    }
   ],
   "source": [
    "df_pelis_final[df_pelis_final['Titulo'] != df_pelis_final['titulo']].head()"
   ]
  },
  {
   "cell_type": "markdown",
   "metadata": {},
   "source": [
    "Vemos que 'titulo' está mal escrito, nos quedamos ocn 'Titulo'"
   ]
  },
  {
   "cell_type": "code",
   "execution_count": 20,
   "metadata": {},
   "outputs": [],
   "source": [
    "df_pelis_final.drop(columns='titulo', inplace=True)"
   ]
  },
  {
   "cell_type": "markdown",
   "metadata": {},
   "source": [
    "Vamos a renombrar las columnas"
   ]
  },
  {
   "cell_type": "code",
   "execution_count": 21,
   "metadata": {},
   "outputs": [],
   "source": [
    "df_pelis_final.columns = ['type', 'title', 'year', 'month', 'id', 'genres', 'score',\n",
    "       'director', 'writer', 'plot', 'duration']"
   ]
  },
  {
   "cell_type": "markdown",
   "metadata": {},
   "source": [
    "Vamos a renombrar las columnas de artistas"
   ]
  },
  {
   "cell_type": "code",
   "execution_count": 22,
   "metadata": {},
   "outputs": [
    {
     "data": {
      "text/html": [
       "<div>\n",
       "<style scoped>\n",
       "    .dataframe tbody tr th:only-of-type {\n",
       "        vertical-align: middle;\n",
       "    }\n",
       "\n",
       "    .dataframe tbody tr th {\n",
       "        vertical-align: top;\n",
       "    }\n",
       "\n",
       "    .dataframe thead th {\n",
       "        text-align: right;\n",
       "    }\n",
       "</style>\n",
       "<table border=\"1\" class=\"dataframe\">\n",
       "  <thead>\n",
       "    <tr style=\"text-align: right;\">\n",
       "      <th></th>\n",
       "      <th>Movie ID</th>\n",
       "      <th>Actriz_Actor</th>\n",
       "    </tr>\n",
       "  </thead>\n",
       "  <tbody>\n",
       "    <tr>\n",
       "      <th>0</th>\n",
       "      <td>tt0110660</td>\n",
       "      <td>Tony Ka Fai Leung</td>\n",
       "    </tr>\n",
       "    <tr>\n",
       "      <th>1</th>\n",
       "      <td>tt0110363</td>\n",
       "      <td>Luke Edwards</td>\n",
       "    </tr>\n",
       "    <tr>\n",
       "      <th>2</th>\n",
       "      <td>tt0110397</td>\n",
       "      <td>Jennifer Barker</td>\n",
       "    </tr>\n",
       "    <tr>\n",
       "      <th>3</th>\n",
       "      <td>tt0111045</td>\n",
       "      <td>Miklós Déri</td>\n",
       "    </tr>\n",
       "    <tr>\n",
       "      <th>4</th>\n",
       "      <td>tt0111653</td>\n",
       "      <td>Joe Bays</td>\n",
       "    </tr>\n",
       "  </tbody>\n",
       "</table>\n",
       "</div>"
      ],
      "text/plain": [
       "    Movie ID       Actriz_Actor\n",
       "0  tt0110660  Tony Ka Fai Leung\n",
       "1  tt0110363       Luke Edwards\n",
       "2  tt0110397    Jennifer Barker\n",
       "3  tt0111045        Miklós Déri\n",
       "4  tt0111653           Joe Bays"
      ]
     },
     "execution_count": 22,
     "metadata": {},
     "output_type": "execute_result"
    }
   ],
   "source": [
    "df_artista.head()"
   ]
  },
  {
   "cell_type": "code",
   "execution_count": 23,
   "metadata": {},
   "outputs": [],
   "source": [
    "df_artista.columns = ['movie_id', 'artist']"
   ]
  },
  {
   "cell_type": "markdown",
   "metadata": {},
   "source": [
    "Vamos a renombrar las columnas de datalles artistas"
   ]
  },
  {
   "cell_type": "code",
   "execution_count": 24,
   "metadata": {},
   "outputs": [
    {
     "data": {
      "text/html": [
       "<div>\n",
       "<style scoped>\n",
       "    .dataframe tbody tr th:only-of-type {\n",
       "        vertical-align: middle;\n",
       "    }\n",
       "\n",
       "    .dataframe tbody tr th {\n",
       "        vertical-align: top;\n",
       "    }\n",
       "\n",
       "    .dataframe thead th {\n",
       "        text-align: right;\n",
       "    }\n",
       "</style>\n",
       "<table border=\"1\" class=\"dataframe\">\n",
       "  <thead>\n",
       "    <tr style=\"text-align: right;\">\n",
       "      <th></th>\n",
       "      <th>actr</th>\n",
       "      <th>año_nac</th>\n",
       "      <th>conocido_por</th>\n",
       "      <th>que_hace</th>\n",
       "      <th>premios</th>\n",
       "    </tr>\n",
       "  </thead>\n",
       "  <tbody>\n",
       "    <tr>\n",
       "      <th>0</th>\n",
       "      <td>A. Gunaseelan</td>\n",
       "      <td>9999</td>\n",
       "      <td>'Mandela'</td>\n",
       "      <td>Casting Department, Actress, Casting Director</td>\n",
       "      <td>1 nomination</td>\n",
       "    </tr>\n",
       "    <tr>\n",
       "      <th>1</th>\n",
       "      <td>A. Michelle Harleston</td>\n",
       "      <td>9999</td>\n",
       "      <td>'Murder by Numbers', 'The Mark of a Killer', '...</td>\n",
       "      <td>Actor</td>\n",
       "      <td>no tiene premios</td>\n",
       "    </tr>\n",
       "    <tr>\n",
       "      <th>2</th>\n",
       "      <td>A.C. Peterson</td>\n",
       "      <td>9999</td>\n",
       "      <td>'Narc', 'Shanghai Noon', 'Shooter', 'The Last ...</td>\n",
       "      <td>Actor</td>\n",
       "      <td>no tiene premios</td>\n",
       "    </tr>\n",
       "    <tr>\n",
       "      <th>3</th>\n",
       "      <td>A.V.S. Subramanyam</td>\n",
       "      <td>1957</td>\n",
       "      <td>'Roommates', 'Uncle', 'Ori Nee Prema Bangaramk...</td>\n",
       "      <td>Actor, Director, Writer</td>\n",
       "      <td>no tiene premios</td>\n",
       "    </tr>\n",
       "    <tr>\n",
       "      <th>4</th>\n",
       "      <td>Øyvind Øvrebø</td>\n",
       "      <td>9999</td>\n",
       "      <td>'Tingen, Edderkoppen', 'Demenskoret', 'Kristia...</td>\n",
       "      <td>Actress, Additional Crew</td>\n",
       "      <td>no tiene premios</td>\n",
       "    </tr>\n",
       "  </tbody>\n",
       "</table>\n",
       "</div>"
      ],
      "text/plain": [
       "                    actr  año_nac  \\\n",
       "0          A. Gunaseelan     9999   \n",
       "1  A. Michelle Harleston     9999   \n",
       "2          A.C. Peterson     9999   \n",
       "3     A.V.S. Subramanyam     1957   \n",
       "4          Øyvind Øvrebø     9999   \n",
       "\n",
       "                                        conocido_por  \\\n",
       "0                                          'Mandela'   \n",
       "1  'Murder by Numbers', 'The Mark of a Killer', '...   \n",
       "2  'Narc', 'Shanghai Noon', 'Shooter', 'The Last ...   \n",
       "3  'Roommates', 'Uncle', 'Ori Nee Prema Bangaramk...   \n",
       "4  'Tingen, Edderkoppen', 'Demenskoret', 'Kristia...   \n",
       "\n",
       "                                        que_hace           premios  \n",
       "0  Casting Department, Actress, Casting Director      1 nomination  \n",
       "1                                          Actor  no tiene premios  \n",
       "2                                          Actor  no tiene premios  \n",
       "3                        Actor, Director, Writer  no tiene premios  \n",
       "4                       Actress, Additional Crew  no tiene premios  "
      ]
     },
     "execution_count": 24,
     "metadata": {},
     "output_type": "execute_result"
    }
   ],
   "source": [
    "df_detalles_artistas.head()"
   ]
  },
  {
   "cell_type": "code",
   "execution_count": 25,
   "metadata": {},
   "outputs": [],
   "source": [
    "df_detalles_artistas.columns = ['artist', 'year_birth', 'known_for', 'roles', 'awards']"
   ]
  },
  {
   "cell_type": "markdown",
   "metadata": {},
   "source": [
    "Nada, vamos a juntas las tablas de los artistas para simplificarlo un poco más."
   ]
  },
  {
   "cell_type": "code",
   "execution_count": 26,
   "metadata": {},
   "outputs": [],
   "source": [
    "df_artista_final = df_artista.merge(right=df_detalles_artistas, left_on='artist', right_on='artist')"
   ]
  },
  {
   "cell_type": "markdown",
   "metadata": {},
   "source": [
    "Vamos a quitar las filas que no tienen datos en artista. Hay algún duplicado de artista pero que puede estar en varias películas a la vez, por ahora simplemente vamos a utilizar el índice como id de la entrada."
   ]
  },
  {
   "cell_type": "code",
   "execution_count": 27,
   "metadata": {},
   "outputs": [],
   "source": [
    "df_artista_final = df_artista_final[df_artista_final['artist'] != 'Sin datos'].drop_duplicates().reset_index()"
   ]
  },
  {
   "cell_type": "code",
   "execution_count": 28,
   "metadata": {},
   "outputs": [
    {
     "data": {
      "text/plain": [
       "513"
      ]
     },
     "execution_count": 28,
     "metadata": {},
     "output_type": "execute_result"
    }
   ],
   "source": [
    "df_artista_final['artist'].duplicated().sum()"
   ]
  },
  {
   "cell_type": "markdown",
   "metadata": {},
   "source": [
    "### DB creation"
   ]
  },
  {
   "cell_type": "code",
   "execution_count": 29,
   "metadata": {},
   "outputs": [
    {
     "name": "stdout",
     "output_type": "stream",
     "text": [
      "Database peliculas created successfully.\n",
      "Database connection closed.\n"
     ]
    }
   ],
   "source": [
    "create_db('peliculas')"
   ]
  },
  {
   "cell_type": "markdown",
   "metadata": {},
   "source": [
    "### Tables creation"
   ]
  },
  {
   "cell_type": "code",
   "execution_count": 30,
   "metadata": {},
   "outputs": [],
   "source": [
    "# Movies\n",
    "query_creation_movies = \"\"\"\n",
    "CREATE TABLE IF NOT EXISTS movies (\n",
    "    type VARCHAR(50),\n",
    "    title VARCHAR(500),\n",
    "    year INT,\n",
    "    month INT,\n",
    "    id VARCHAR(50) primary key,\n",
    "    genres VARCHAR(200),\n",
    "    score FLOAT,\n",
    "    director VARCHAR(400),\n",
    "    writer VARCHAR(400),\n",
    "    plot VARCHAR(1000),\n",
    "    duration VARCHAR(50)\n",
    ");\n",
    "\"\"\"\n",
    "\n",
    "# Artists\n",
    "query_creation_artists = \"\"\"\n",
    "CREATE TABLE IF NOT EXISTS artists (\n",
    "    index INT primary key,\n",
    "    movie_id VARCHAR(50),\n",
    "    artist VARCHAR(100) not null,\n",
    "    year_birth INT,\n",
    "    known_for VARCHAR(300),\n",
    "    roles VARCHAR(200),\n",
    "    awards VARCHAR(200), \n",
    "    foreign key (movie_id) references movies(id)\n",
    ");\n",
    "\"\"\"\n",
    "\n",
    "# List of queries ordered\n",
    "queries_creation = [\n",
    "    query_creation_movies,\n",
    "    query_creation_artists\n",
    "    ]"
   ]
  },
  {
   "cell_type": "code",
   "execution_count": 31,
   "metadata": {},
   "outputs": [
    {
     "name": "stdout",
     "output_type": "stream",
     "text": [
      "Tables created successfully.\n",
      "Database connection closed.\n"
     ]
    }
   ],
   "source": [
    "table_creation(queries_creation)"
   ]
  },
  {
   "cell_type": "markdown",
   "metadata": {},
   "source": [
    "### Data insertion"
   ]
  },
  {
   "cell_type": "code",
   "execution_count": 32,
   "metadata": {},
   "outputs": [],
   "source": [
    "query_insertion_movies = \"\"\"\n",
    "INSERT INTO movies (\n",
    "    type, title, year, month, id, genres, score, director, writer, plot, duration\n",
    ") VALUES\n",
    "(%s, %s, %s, %s, %s, %s, %s, %s, %s, %s, %s);\n",
    "\"\"\"\n",
    "\n",
    "# Insert query for races table\n",
    "query_insertion_artists = \"\"\"\n",
    "INSERT INTO artists (\n",
    "    index, movie_id, artist, year_birth, known_for, roles, awards\n",
    ") VALUES\n",
    "(%s, %s, %s, %s, %s, %s, %s);\n",
    "\"\"\"\n",
    "\n",
    "queries_insertion = [\n",
    "    query_insertion_movies, \n",
    "    query_insertion_artists]"
   ]
  },
  {
   "cell_type": "code",
   "execution_count": 33,
   "metadata": {},
   "outputs": [
    {
     "name": "stdout",
     "output_type": "stream",
     "text": [
      "Data inserted successfully.\n",
      "Database connection closed.\n",
      "Data inserted successfully.\n",
      "Database connection closed.\n"
     ]
    }
   ],
   "source": [
    "values_movies = [tuple(row) for row in df_pelis_final.values]\n",
    "values_artists = [tuple(row) for row in df_artista_final.values]\n",
    "\n",
    "values = [values_movies, values_artists]\n",
    "\n",
    "for i in range(len(values)):\n",
    "    data_insertion(queries_insertion[i], values[i])"
   ]
  }
 ],
 "metadata": {
  "kernelspec": {
   "display_name": "proyecto4",
   "language": "python",
   "name": "python3"
  },
  "language_info": {
   "codemirror_mode": {
    "name": "ipython",
    "version": 3
   },
   "file_extension": ".py",
   "mimetype": "text/x-python",
   "name": "python",
   "nbconvert_exporter": "python",
   "pygments_lexer": "ipython3",
   "version": "3.12.7"
  }
 },
 "nbformat": 4,
 "nbformat_minor": 2
}
