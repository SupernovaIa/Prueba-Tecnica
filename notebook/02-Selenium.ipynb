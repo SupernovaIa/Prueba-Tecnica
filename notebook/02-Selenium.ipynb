{
 "cells": [
  {
   "cell_type": "markdown",
   "metadata": {},
   "source": [
    "- Calificación de IMDB.\n",
    "- Dirección (director o directores).\n",
    "- Guionistas.\n",
    "- Argumento.\n",
    "- Duración (en minutos)."
   ]
  },
  {
   "cell_type": "code",
   "execution_count": 40,
   "metadata": {},
   "outputs": [],
   "source": [
    "import pandas as pd\n",
    "from tqdm import tqdm\n",
    "\n",
    "import pickle \n",
    "import sys\n",
    "sys.path.append('../')"
   ]
  },
  {
   "cell_type": "code",
   "execution_count": 41,
   "metadata": {},
   "outputs": [],
   "source": [
    "from bs4 import BeautifulSoup\n",
    "import requests"
   ]
  },
  {
   "cell_type": "code",
   "execution_count": 42,
   "metadata": {},
   "outputs": [],
   "source": [
    "with open(f'../data/full_data.pkl', 'rb') as f:\n",
    "    data = pickle.load(f)"
   ]
  },
  {
   "cell_type": "code",
   "execution_count": 43,
   "metadata": {},
   "outputs": [],
   "source": [
    "df = pd.DataFrame(data, columns=['type', 'title', 'year', 'month', 'id', 'genre'])"
   ]
  },
  {
   "cell_type": "code",
   "execution_count": 44,
   "metadata": {},
   "outputs": [
    {
     "data": {
      "text/plain": [
       "array([2024.,   nan, 2025., 2023., 2022.])"
      ]
     },
     "execution_count": 44,
     "metadata": {},
     "output_type": "execute_result"
    }
   ],
   "source": [
    "df['year'].unique()"
   ]
  },
  {
   "cell_type": "markdown",
   "metadata": {},
   "source": [
    "Vemos que realmente solo tenemos información de películas de 2022 a 2025. Esto indica que tendríamos que revisar que la extracción de información de la API funciona correctamente en el paso anterior.\n",
    "\n",
    "De momento vamos a continuar con esta información, y si nos sobra tiempo lo hacemos."
   ]
  },
  {
   "cell_type": "code",
   "execution_count": 45,
   "metadata": {},
   "outputs": [
    {
     "data": {
      "text/plain": [
       "0"
      ]
     },
     "execution_count": 45,
     "metadata": {},
     "output_type": "execute_result"
    }
   ],
   "source": [
    "df.duplicated().sum()"
   ]
  },
  {
   "cell_type": "markdown",
   "metadata": {},
   "source": [
    "No hay duplicados, así que bien. Pero..."
   ]
  },
  {
   "cell_type": "code",
   "execution_count": 46,
   "metadata": {},
   "outputs": [
    {
     "data": {
      "text/plain": [
       "1115"
      ]
     },
     "execution_count": 46,
     "metadata": {},
     "output_type": "execute_result"
    }
   ],
   "source": [
    "df['id'].duplicated().sum()"
   ]
  },
  {
   "cell_type": "markdown",
   "metadata": {},
   "source": [
    "Resulta que hay duplicados porque algunas películas tienen varios géneros. Por el momento lo vamos a dejar así y usaremos el índice como identificador de la entrada"
   ]
  },
  {
   "cell_type": "code",
   "execution_count": 47,
   "metadata": {},
   "outputs": [
    {
     "data": {
      "text/html": [
       "<div>\n",
       "<style scoped>\n",
       "    .dataframe tbody tr th:only-of-type {\n",
       "        vertical-align: middle;\n",
       "    }\n",
       "\n",
       "    .dataframe tbody tr th {\n",
       "        vertical-align: top;\n",
       "    }\n",
       "\n",
       "    .dataframe thead th {\n",
       "        text-align: right;\n",
       "    }\n",
       "</style>\n",
       "<table border=\"1\" class=\"dataframe\">\n",
       "  <thead>\n",
       "    <tr style=\"text-align: right;\">\n",
       "      <th></th>\n",
       "      <th>type</th>\n",
       "      <th>title</th>\n",
       "      <th>year</th>\n",
       "      <th>month</th>\n",
       "      <th>id</th>\n",
       "      <th>genre</th>\n",
       "    </tr>\n",
       "  </thead>\n",
       "  <tbody>\n",
       "    <tr>\n",
       "      <th>0</th>\n",
       "      <td>movie</td>\n",
       "      <td>Mom's Coming</td>\n",
       "      <td>2024.0</td>\n",
       "      <td>11.0</td>\n",
       "      <td>tt10579986</td>\n",
       "      <td>Drama</td>\n",
       "    </tr>\n",
       "    <tr>\n",
       "      <th>4000</th>\n",
       "      <td>movie</td>\n",
       "      <td>Mom's Coming</td>\n",
       "      <td>2024.0</td>\n",
       "      <td>11.0</td>\n",
       "      <td>tt10579986</td>\n",
       "      <td>Horror</td>\n",
       "    </tr>\n",
       "    <tr>\n",
       "      <th>7000</th>\n",
       "      <td>movie</td>\n",
       "      <td>Mom's Coming</td>\n",
       "      <td>2024.0</td>\n",
       "      <td>11.0</td>\n",
       "      <td>tt10579986</td>\n",
       "      <td>Thriller</td>\n",
       "    </tr>\n",
       "    <tr>\n",
       "      <th>2000</th>\n",
       "      <td>movie</td>\n",
       "      <td>Slasher House 3</td>\n",
       "      <td>2024.0</td>\n",
       "      <td>3.0</td>\n",
       "      <td>tt11078340</td>\n",
       "      <td>Action</td>\n",
       "    </tr>\n",
       "    <tr>\n",
       "      <th>4001</th>\n",
       "      <td>movie</td>\n",
       "      <td>Slasher House 3</td>\n",
       "      <td>2024.0</td>\n",
       "      <td>3.0</td>\n",
       "      <td>tt11078340</td>\n",
       "      <td>Horror</td>\n",
       "    </tr>\n",
       "    <tr>\n",
       "      <th>3000</th>\n",
       "      <td>movie</td>\n",
       "      <td>Amigos imaginarios</td>\n",
       "      <td>2024.0</td>\n",
       "      <td>5.0</td>\n",
       "      <td>tt11152168</td>\n",
       "      <td>Fantasy</td>\n",
       "    </tr>\n",
       "    <tr>\n",
       "      <th>1001</th>\n",
       "      <td>movie</td>\n",
       "      <td>Amigos imaginarios</td>\n",
       "      <td>2024.0</td>\n",
       "      <td>5.0</td>\n",
       "      <td>tt11152168</td>\n",
       "      <td>Comedy</td>\n",
       "    </tr>\n",
       "    <tr>\n",
       "      <th>3</th>\n",
       "      <td>movie</td>\n",
       "      <td>Amigos imaginarios</td>\n",
       "      <td>2024.0</td>\n",
       "      <td>5.0</td>\n",
       "      <td>tt11152168</td>\n",
       "      <td>Drama</td>\n",
       "    </tr>\n",
       "    <tr>\n",
       "      <th>5214</th>\n",
       "      <td>movie</td>\n",
       "      <td>Vincent</td>\n",
       "      <td>2023.0</td>\n",
       "      <td>NaN</td>\n",
       "      <td>tt11253182</td>\n",
       "      <td>Mystery</td>\n",
       "    </tr>\n",
       "    <tr>\n",
       "      <th>3220</th>\n",
       "      <td>movie</td>\n",
       "      <td>Vincent</td>\n",
       "      <td>2023.0</td>\n",
       "      <td>NaN</td>\n",
       "      <td>tt11253182</td>\n",
       "      <td>Fantasy</td>\n",
       "    </tr>\n",
       "  </tbody>\n",
       "</table>\n",
       "</div>"
      ],
      "text/plain": [
       "       type               title    year  month          id     genre\n",
       "0     movie        Mom's Coming  2024.0   11.0  tt10579986     Drama\n",
       "4000  movie        Mom's Coming  2024.0   11.0  tt10579986    Horror\n",
       "7000  movie        Mom's Coming  2024.0   11.0  tt10579986  Thriller\n",
       "2000  movie     Slasher House 3  2024.0    3.0  tt11078340    Action\n",
       "4001  movie     Slasher House 3  2024.0    3.0  tt11078340    Horror\n",
       "3000  movie  Amigos imaginarios  2024.0    5.0  tt11152168   Fantasy\n",
       "1001  movie  Amigos imaginarios  2024.0    5.0  tt11152168    Comedy\n",
       "3     movie  Amigos imaginarios  2024.0    5.0  tt11152168     Drama\n",
       "5214  movie             Vincent  2023.0    NaN  tt11253182   Mystery\n",
       "3220  movie             Vincent  2023.0    NaN  tt11253182   Fantasy"
      ]
     },
     "execution_count": 47,
     "metadata": {},
     "output_type": "execute_result"
    }
   ],
   "source": [
    "df[df['id'].isin(df[df['id'].duplicated()]['id'].unique())].sort_values(by='id').head(10)"
   ]
  },
  {
   "cell_type": "markdown",
   "metadata": {},
   "source": [
    "Para que sea viable un scrapeo en poco tiempo vamos a utilizar solamente algunas películas. \n",
    "\n",
    "Comencemos utilizando solo las de 2024 que sean drama y no sean cortos, solo largometrajes."
   ]
  },
  {
   "cell_type": "code",
   "execution_count": 48,
   "metadata": {},
   "outputs": [
    {
     "data": {
      "text/plain": [
       "489"
      ]
     },
     "execution_count": 48,
     "metadata": {},
     "output_type": "execute_result"
    }
   ],
   "source": [
    "filtro = (df['year'] == 2024) & (df['genre'] == 'Drama') & (df['type'] == 'movie')\n",
    "\n",
    "df_filtrado = df[filtro]\n",
    "\n",
    "df_filtrado.shape[0]"
   ]
  },
  {
   "cell_type": "markdown",
   "metadata": {},
   "source": [
    "De hecho comprobamos que no haya duplicados ahora."
   ]
  },
  {
   "cell_type": "code",
   "execution_count": 49,
   "metadata": {},
   "outputs": [
    {
     "data": {
      "text/plain": [
       "0"
      ]
     },
     "execution_count": 49,
     "metadata": {},
     "output_type": "execute_result"
    }
   ],
   "source": [
    "df_filtrado['id'].duplicated().sum()"
   ]
  },
  {
   "cell_type": "code",
   "execution_count": 75,
   "metadata": {},
   "outputs": [],
   "source": [
    "df_filtrado.to_csv('../data/datos_api.csv')"
   ]
  },
  {
   "cell_type": "markdown",
   "metadata": {},
   "source": [
    "Tenemos 489 películas, vayamos con esto por el momento"
   ]
  },
  {
   "cell_type": "code",
   "execution_count": 50,
   "metadata": {},
   "outputs": [],
   "source": [
    "def get_synopsis(id_):\n",
    "\n",
    "    url = f'https://www.imdb.com/title/{id_}/plotsummary'\n",
    "\n",
    "    # Simulamos un usuario\n",
    "    headers = {'User-Agent': 'Mozilla/5.0 (Macintosh; Intel Mac OS X 10_11_5) AppleWebKit/537.36 (KHTML, like Gecko) Chrome/50.0.2661.102 Safari/537.36'}\n",
    "    response = requests.get(url, headers=headers)\n",
    "\n",
    "    # Comprobamos que obtenemos un 200\n",
    "    if response.status_code != 200:\n",
    "        print(\"Error:\", response.status_code)\n",
    "        print(\"id:\", id_)\n",
    "        return\n",
    "\n",
    "    soup = BeautifulSoup(response.content, 'html.parser')\n",
    "\n",
    "    sinopsis = soup.find(\"div\", {\"data-testid\": \"sub-section-synopsis\"}).text\n",
    "\n",
    "    return sinopsis"
   ]
  },
  {
   "cell_type": "code",
   "execution_count": 51,
   "metadata": {},
   "outputs": [],
   "source": [
    "def scrap_id(id_):\n",
    "\n",
    "    url = f'https://www.imdb.com/es-es/title/{id_}/'\n",
    "\n",
    "    # Simulamos un usuario\n",
    "    headers = {'User-Agent': 'Mozilla/5.0 (Macintosh; Intel Mac OS X 10_11_5) AppleWebKit/537.36 (KHTML, like Gecko) Chrome/50.0.2661.102 Safari/537.36'}\n",
    "    response = requests.get(url, headers=headers)\n",
    "\n",
    "    # Comprobamos que obtenemos un 200\n",
    "    if response.status_code != 200:\n",
    "        print(\"Error:\", response.status_code)\n",
    "        print(\"id:\", id_)\n",
    "        return\n",
    "\n",
    "    # Let him cook (the soup)\n",
    "    soup = BeautifulSoup(response.content, 'html.parser')\n",
    "\n",
    "    # Puntuación\n",
    "    try:\n",
    "        score_ = soup.find(\"div\", {'data-testid': \"hero-rating-bar__aggregate-rating__score\"}).text\n",
    "        score_ = float(score_.split('/')[0].replace(',', '.'))\n",
    "    except:\n",
    "        score_ = None\n",
    "\n",
    "    # Dirección, Guión, Reparto Principal\n",
    "    info = soup.find(\"ul\", {'class':\"ipc-metadata-list ipc-metadata-list--dividers-all title-pc-list ipc-metadata-list--baseAlt\"})\n",
    "    info_table = info.findAll(\"li\", {\"class\": \"ipc-inline-list__item\"})\n",
    "\n",
    "    directores_ = []\n",
    "    guionistas_ = []\n",
    "    actores_ = []\n",
    "\n",
    "    for item in info_table:\n",
    "\n",
    "        class_ = item.a.get('href').split('=')[1]\n",
    "\n",
    "        if 'dr' in class_:\n",
    "            directores_.append(item.text)\n",
    "\n",
    "        elif 'wr' in class_:\n",
    "            guionistas_.append(item.text)\n",
    "\n",
    "        elif 'st' in class_:\n",
    "            actores_.append(item.text)\n",
    "\n",
    "    # Resumen\n",
    "    try:\n",
    "        resumen_ = soup.find(\"span\", {'data-testid':\"plot-l\"}).text\n",
    "    except:\n",
    "        resumen_ = None\n",
    "\n",
    "    # Duración\n",
    "    try:\n",
    "        duracion_ = soup.find(\"ul\", {\"class\":\"ipc-inline-list ipc-inline-list--show-dividers sc-ec65ba05-2 joVhBE baseAlt\"}).findAll(\"li\", {'class': \"ipc-inline-list__item\"})[-1].text\n",
    "        # Si dura menos de 1h no aparece h\n",
    "        if 'h' in duracion_:\n",
    "            horas, minutos = duracion_.split(' ')\n",
    "            duracion_ = int(horas.rstrip('h').strip())*60 + int(minutos.rstrip('min').strip())\n",
    "        else:\n",
    "            duracion_ = int(minutos.rstrip('min').strip())\n",
    "\n",
    "\n",
    "    except:\n",
    "        duracion_ = None\n",
    "\n",
    "    # Sinopsis\n",
    "    try:\n",
    "        sinopsis_ = get_synopsis(id_)\n",
    "\n",
    "    except:\n",
    "        sinopsis_ = None\n",
    "\n",
    "    return (id_, score_, directores_, guionistas_, actores_, resumen_, sinopsis_, duracion_)"
   ]
  },
  {
   "cell_type": "code",
   "execution_count": 52,
   "metadata": {},
   "outputs": [
    {
     "name": "stderr",
     "output_type": "stream",
     "text": [
      "  3%|▎         | 15/489 [00:30<12:20,  1.56s/it]"
     ]
    },
    {
     "name": "stdout",
     "output_type": "stream",
     "text": [
      "Error: 404\n",
      "id: tt14643262\n"
     ]
    },
    {
     "name": "stderr",
     "output_type": "stream",
     "text": [
      "  4%|▍         | 20/489 [00:40<15:00,  1.92s/it]"
     ]
    },
    {
     "name": "stdout",
     "output_type": "stream",
     "text": [
      "Error: 404\n",
      "id: tt15535164\n"
     ]
    },
    {
     "name": "stderr",
     "output_type": "stream",
     "text": [
      "  4%|▍         | 22/489 [00:43<13:01,  1.67s/it]"
     ]
    },
    {
     "name": "stdout",
     "output_type": "stream",
     "text": [
      "Error: 404\n",
      "id: tt15791240\n"
     ]
    },
    {
     "name": "stderr",
     "output_type": "stream",
     "text": [
      "  5%|▍         | 23/489 [00:44<10:19,  1.33s/it]"
     ]
    },
    {
     "name": "stdout",
     "output_type": "stream",
     "text": [
      "Error: 404\n",
      "id: tt9134042\n"
     ]
    },
    {
     "name": "stderr",
     "output_type": "stream",
     "text": [
      "  5%|▍         | 24/489 [00:44<08:39,  1.12s/it]"
     ]
    },
    {
     "name": "stdout",
     "output_type": "stream",
     "text": [
      "Error: 404\n",
      "id: tt15769770\n"
     ]
    },
    {
     "name": "stderr",
     "output_type": "stream",
     "text": [
      " 11%|█▏        | 56/489 [01:48<11:17,  1.56s/it]"
     ]
    },
    {
     "name": "stdout",
     "output_type": "stream",
     "text": [
      "Error: 404\n",
      "id: tt27607129\n"
     ]
    },
    {
     "name": "stderr",
     "output_type": "stream",
     "text": [
      " 12%|█▏        | 57/489 [01:48<08:57,  1.24s/it]"
     ]
    },
    {
     "name": "stdout",
     "output_type": "stream",
     "text": [
      "Error: 404\n",
      "id: tt27626125\n"
     ]
    },
    {
     "name": "stderr",
     "output_type": "stream",
     "text": [
      " 12%|█▏        | 61/489 [01:55<09:22,  1.31s/it]"
     ]
    },
    {
     "name": "stdout",
     "output_type": "stream",
     "text": [
      "Error: 404\n",
      "id: tt27814598\n"
     ]
    },
    {
     "name": "stderr",
     "output_type": "stream",
     "text": [
      " 13%|█▎        | 65/489 [02:02<10:22,  1.47s/it]"
     ]
    },
    {
     "name": "stdout",
     "output_type": "stream",
     "text": [
      "Error: 404\n",
      "id: tt28015766\n"
     ]
    },
    {
     "name": "stderr",
     "output_type": "stream",
     "text": [
      " 15%|█▌        | 74/489 [02:19<10:41,  1.55s/it]"
     ]
    },
    {
     "name": "stdout",
     "output_type": "stream",
     "text": [
      "Error: 404\n",
      "id: tt28496969\n"
     ]
    },
    {
     "name": "stderr",
     "output_type": "stream",
     "text": [
      " 15%|█▌        | 75/489 [02:20<09:38,  1.40s/it]"
     ]
    },
    {
     "name": "stdout",
     "output_type": "stream",
     "text": [
      "Error: 404\n",
      "id: tt28496088\n"
     ]
    },
    {
     "name": "stderr",
     "output_type": "stream",
     "text": [
      " 23%|██▎       | 114/489 [04:14<13:33,  2.17s/it]"
     ]
    },
    {
     "name": "stdout",
     "output_type": "stream",
     "text": [
      "Error: 404\n",
      "id: tt29453957\n"
     ]
    },
    {
     "name": "stderr",
     "output_type": "stream",
     "text": [
      " 25%|██▌       | 123/489 [04:40<16:11,  2.65s/it]"
     ]
    },
    {
     "name": "stdout",
     "output_type": "stream",
     "text": [
      "Error: 404\n",
      "id: tt29522764\n"
     ]
    },
    {
     "name": "stderr",
     "output_type": "stream",
     "text": [
      " 29%|██▉       | 144/489 [05:40<12:47,  2.22s/it]"
     ]
    },
    {
     "name": "stdout",
     "output_type": "stream",
     "text": [
      "Error: 404\n",
      "id: tt29925086\n"
     ]
    },
    {
     "name": "stderr",
     "output_type": "stream",
     "text": [
      " 32%|███▏      | 156/489 [06:16<13:08,  2.37s/it]"
     ]
    },
    {
     "name": "stdout",
     "output_type": "stream",
     "text": [
      "Error: 404\n",
      "id: tt30048388\n"
     ]
    },
    {
     "name": "stderr",
     "output_type": "stream",
     "text": [
      " 43%|████▎     | 210/489 [08:59<10:25,  2.24s/it]"
     ]
    },
    {
     "name": "stdout",
     "output_type": "stream",
     "text": [
      "Error: 404\n",
      "id: tt30399520\n"
     ]
    },
    {
     "name": "stderr",
     "output_type": "stream",
     "text": [
      " 47%|████▋     | 228/489 [09:49<10:34,  2.43s/it]"
     ]
    },
    {
     "name": "stdout",
     "output_type": "stream",
     "text": [
      "Error: 404\n",
      "id: tt30470734\n"
     ]
    },
    {
     "name": "stderr",
     "output_type": "stream",
     "text": [
      " 56%|█████▌    | 274/489 [12:09<08:11,  2.29s/it]"
     ]
    },
    {
     "name": "stdout",
     "output_type": "stream",
     "text": [
      "Error: 404\n",
      "id: tt30762685\n"
     ]
    },
    {
     "name": "stderr",
     "output_type": "stream",
     "text": [
      " 59%|█████▉    | 289/489 [12:49<06:52,  2.06s/it]"
     ]
    },
    {
     "name": "stdout",
     "output_type": "stream",
     "text": [
      "Error: 404\n",
      "id: tt30790473\n"
     ]
    },
    {
     "name": "stderr",
     "output_type": "stream",
     "text": [
      " 60%|██████    | 294/489 [13:01<06:34,  2.02s/it]"
     ]
    },
    {
     "name": "stdout",
     "output_type": "stream",
     "text": [
      "Error: 404\n",
      "id: tt30803405\n"
     ]
    },
    {
     "name": "stderr",
     "output_type": "stream",
     "text": [
      " 83%|████████▎ | 404/489 [18:22<03:04,  2.18s/it]"
     ]
    },
    {
     "name": "stdout",
     "output_type": "stream",
     "text": [
      "Error: 404\n",
      "id: tt31024127\n"
     ]
    },
    {
     "name": "stderr",
     "output_type": "stream",
     "text": [
      " 98%|█████████▊| 478/489 [22:01<00:28,  2.55s/it]"
     ]
    },
    {
     "name": "stdout",
     "output_type": "stream",
     "text": [
      "Error: 404\n",
      "id: tt31170218\n"
     ]
    },
    {
     "name": "stderr",
     "output_type": "stream",
     "text": [
      " 99%|█████████▉| 486/489 [22:22<00:06,  2.32s/it]"
     ]
    },
    {
     "name": "stdout",
     "output_type": "stream",
     "text": [
      "Error: 404\n",
      "id: tt31172843\n"
     ]
    },
    {
     "name": "stderr",
     "output_type": "stream",
     "text": [
      "100%|██████████| 489/489 [22:30<00:00,  2.76s/it]\n"
     ]
    }
   ],
   "source": [
    "datos = []\n",
    "\n",
    "for id_ in tqdm(df_filtrado['id'].values):\n",
    "    datos.append(scrap_id(id_))"
   ]
  },
  {
   "cell_type": "code",
   "execution_count": 54,
   "metadata": {},
   "outputs": [],
   "source": [
    "df_scrap = pd.DataFrame(datos, columns=['id', 'score', 'directores', 'guionistas', 'actores', 'resumen', 'sinopsis', 'duracion'])"
   ]
  },
  {
   "cell_type": "markdown",
   "metadata": {},
   "source": [
    "Eliminamos las filas en las que todos los valores sean nulos"
   ]
  },
  {
   "cell_type": "code",
   "execution_count": 60,
   "metadata": {},
   "outputs": [],
   "source": [
    "df_scrap.dropna(how='all', inplace=True)"
   ]
  },
  {
   "cell_type": "code",
   "execution_count": 74,
   "metadata": {},
   "outputs": [],
   "source": [
    "df_scrap.to_csv('../data/datos_scrap.csv')"
   ]
  },
  {
   "cell_type": "code",
   "execution_count": 76,
   "metadata": {},
   "outputs": [],
   "source": [
    "actor_list = []\n",
    "\n",
    "for entry in df_scrap['actores'].to_list():\n",
    "    for actor in entry:\n",
    "        actor_list.append(actor)"
   ]
  },
  {
   "cell_type": "code",
   "execution_count": 85,
   "metadata": {},
   "outputs": [
    {
     "data": {
      "text/plain": [
       "1284"
      ]
     },
     "execution_count": 85,
     "metadata": {},
     "output_type": "execute_result"
    }
   ],
   "source": [
    "len(set(actor_list))"
   ]
  },
  {
   "cell_type": "markdown",
   "metadata": {},
   "source": [
    "Es inviable ahora mismo que hagamos una búsqueda de los 1284 actores únicos, principalmente porque esta parte sí va a requerir usar Selenium. Vamos a contar cuáles aparecen más de una vez y a quedarnos con esos por el momento."
   ]
  },
  {
   "cell_type": "code",
   "execution_count": 86,
   "metadata": {},
   "outputs": [],
   "source": [
    "from collections import Counter\n",
    "cnt = Counter(actor_list)"
   ]
  },
  {
   "cell_type": "code",
   "execution_count": 89,
   "metadata": {},
   "outputs": [],
   "source": [
    "df_actors = pd.DataFrame(cnt.most_common(), columns=['actor', 'count'])"
   ]
  },
  {
   "cell_type": "code",
   "execution_count": 91,
   "metadata": {},
   "outputs": [
    {
     "data": {
      "text/plain": [
       "31"
      ]
     },
     "execution_count": 91,
     "metadata": {},
     "output_type": "execute_result"
    }
   ],
   "source": [
    "df_actors[df_actors['count'] > 1].shape[0]"
   ]
  },
  {
   "cell_type": "markdown",
   "metadata": {},
   "source": [
    "Vemos que de esta forma tenemos 31 actores, vamos a tirar con esto."
   ]
  },
  {
   "cell_type": "code",
   "execution_count": 94,
   "metadata": {},
   "outputs": [],
   "source": [
    "actores_repetidos = df_actors[df_actors['count'] > 1]['actor'].to_list()"
   ]
  },
  {
   "cell_type": "code",
   "execution_count": 95,
   "metadata": {},
   "outputs": [
    {
     "data": {
      "text/plain": [
       "['Charity Lovely Badazz Alston',\n",
       " 'Mike Ajide',\n",
       " 'Karen Abercrombie',\n",
       " 'Jane John-Nwankwo',\n",
       " 'Elaine Aikens',\n",
       " 'Richard Brown Jr.',\n",
       " 'Raashi Khanna',\n",
       " 'Aglaya Tarasova',\n",
       " 'Sidse Babett Knudsen',\n",
       " 'Chelle Alexis',\n",
       " 'Rese Cheri',\n",
       " 'Bing Jia',\n",
       " 'Brandon Bell',\n",
       " 'Rayana Briggs',\n",
       " 'Micheal Ball',\n",
       " 'Rob Fury',\n",
       " 'John U. Nwankwo',\n",
       " 'Yuriy Tsurilo',\n",
       " 'Towanda Braxton',\n",
       " 'Denzell Dandridge',\n",
       " 'Crystal The Doll',\n",
       " 'Tasnia Farin',\n",
       " 'Ishrat Zaheen Ahmed',\n",
       " 'Shahed Ali',\n",
       " 'Nick Launchbury',\n",
       " 'Divya Gowda',\n",
       " 'Isabelle Huppert',\n",
       " 'Shishir Ahmed',\n",
       " 'Tuhin Chowdhury',\n",
       " 'Donny Damara',\n",
       " 'Egypt Bradley']"
      ]
     },
     "execution_count": 95,
     "metadata": {},
     "output_type": "execute_result"
    }
   ],
   "source": [
    "actores_repetidos"
   ]
  },
  {
   "cell_type": "code",
   "execution_count": 104,
   "metadata": {},
   "outputs": [
    {
     "data": {
      "text/html": [
       "<div>\n",
       "<style scoped>\n",
       "    .dataframe tbody tr th:only-of-type {\n",
       "        vertical-align: middle;\n",
       "    }\n",
       "\n",
       "    .dataframe tbody tr th {\n",
       "        vertical-align: top;\n",
       "    }\n",
       "\n",
       "    .dataframe thead th {\n",
       "        text-align: right;\n",
       "    }\n",
       "</style>\n",
       "<table border=\"1\" class=\"dataframe\">\n",
       "  <thead>\n",
       "    <tr style=\"text-align: right;\">\n",
       "      <th></th>\n",
       "      <th>type</th>\n",
       "      <th>title</th>\n",
       "      <th>year</th>\n",
       "      <th>month</th>\n",
       "      <th>id</th>\n",
       "      <th>genre</th>\n",
       "    </tr>\n",
       "  </thead>\n",
       "  <tbody>\n",
       "    <tr>\n",
       "      <th>0</th>\n",
       "      <td>movie</td>\n",
       "      <td>Mom's Coming</td>\n",
       "      <td>2024.0</td>\n",
       "      <td>11.0</td>\n",
       "      <td>tt10579986</td>\n",
       "      <td>Drama</td>\n",
       "    </tr>\n",
       "    <tr>\n",
       "      <th>1</th>\n",
       "      <td>movie</td>\n",
       "      <td>Love Song and Power</td>\n",
       "      <td>2024.0</td>\n",
       "      <td>1.0</td>\n",
       "      <td>tt10597228</td>\n",
       "      <td>Drama</td>\n",
       "    </tr>\n",
       "    <tr>\n",
       "      <th>2</th>\n",
       "      <td>movie</td>\n",
       "      <td>Spaceman</td>\n",
       "      <td>2024.0</td>\n",
       "      <td>3.0</td>\n",
       "      <td>tt11097384</td>\n",
       "      <td>Drama</td>\n",
       "    </tr>\n",
       "    <tr>\n",
       "      <th>3</th>\n",
       "      <td>movie</td>\n",
       "      <td>Amigos imaginarios</td>\n",
       "      <td>2024.0</td>\n",
       "      <td>5.0</td>\n",
       "      <td>tt11152168</td>\n",
       "      <td>Drama</td>\n",
       "    </tr>\n",
       "    <tr>\n",
       "      <th>4</th>\n",
       "      <td>movie</td>\n",
       "      <td>Manje Bistre 3</td>\n",
       "      <td>2024.0</td>\n",
       "      <td>7.0</td>\n",
       "      <td>tt11822244</td>\n",
       "      <td>Drama</td>\n",
       "    </tr>\n",
       "  </tbody>\n",
       "</table>\n",
       "</div>"
      ],
      "text/plain": [
       "    type                title    year  month          id  genre\n",
       "0  movie         Mom's Coming  2024.0   11.0  tt10579986  Drama\n",
       "1  movie  Love Song and Power  2024.0    1.0  tt10597228  Drama\n",
       "2  movie             Spaceman  2024.0    3.0  tt11097384  Drama\n",
       "3  movie   Amigos imaginarios  2024.0    5.0  tt11152168  Drama\n",
       "4  movie       Manje Bistre 3  2024.0    7.0  tt11822244  Drama"
      ]
     },
     "execution_count": 104,
     "metadata": {},
     "output_type": "execute_result"
    }
   ],
   "source": [
    "df_filtrado.head()"
   ]
  },
  {
   "cell_type": "code",
   "execution_count": 107,
   "metadata": {},
   "outputs": [
    {
     "data": {
      "text/plain": [
       "489"
      ]
     },
     "execution_count": 107,
     "metadata": {},
     "output_type": "execute_result"
    }
   ],
   "source": [
    "df_filtrado.shape[0]"
   ]
  },
  {
   "cell_type": "code",
   "execution_count": 105,
   "metadata": {},
   "outputs": [
    {
     "data": {
      "text/html": [
       "<div>\n",
       "<style scoped>\n",
       "    .dataframe tbody tr th:only-of-type {\n",
       "        vertical-align: middle;\n",
       "    }\n",
       "\n",
       "    .dataframe tbody tr th {\n",
       "        vertical-align: top;\n",
       "    }\n",
       "\n",
       "    .dataframe thead th {\n",
       "        text-align: right;\n",
       "    }\n",
       "</style>\n",
       "<table border=\"1\" class=\"dataframe\">\n",
       "  <thead>\n",
       "    <tr style=\"text-align: right;\">\n",
       "      <th></th>\n",
       "      <th>id</th>\n",
       "      <th>score</th>\n",
       "      <th>directores</th>\n",
       "      <th>guionistas</th>\n",
       "      <th>actores</th>\n",
       "      <th>resumen</th>\n",
       "      <th>sinopsis</th>\n",
       "      <th>duracion</th>\n",
       "    </tr>\n",
       "  </thead>\n",
       "  <tbody>\n",
       "    <tr>\n",
       "      <th>0</th>\n",
       "      <td>tt10579986</td>\n",
       "      <td>NaN</td>\n",
       "      <td>[Rishiking]</td>\n",
       "      <td>[Rishiking]</td>\n",
       "      <td>[Byom]</td>\n",
       "      <td>Un alma supuestamente tiene como hija a una ch...</td>\n",
       "      <td>None</td>\n",
       "      <td>122.0</td>\n",
       "    </tr>\n",
       "    <tr>\n",
       "      <th>1</th>\n",
       "      <td>tt10597228</td>\n",
       "      <td>NaN</td>\n",
       "      <td>[Erik Krefeld, Eddel Martinez]</td>\n",
       "      <td>[Stevie Kinchen, Erik Krefeld]</td>\n",
       "      <td>[Aaron Jackson, Rose LaRue, Cassidy Reyes]</td>\n",
       "      <td>Esta es una historia sobre encontrar el valor ...</td>\n",
       "      <td>None</td>\n",
       "      <td>90.0</td>\n",
       "    </tr>\n",
       "    <tr>\n",
       "      <th>2</th>\n",
       "      <td>tt11097384</td>\n",
       "      <td>5.7</td>\n",
       "      <td>[Johan Renck]</td>\n",
       "      <td>[Jaroslav Kalfar, Colby Day]</td>\n",
       "      <td>[Adam Sandler, Carey Mulligan, Paul Dano]</td>\n",
       "      <td>Jakub Procházka, huérfano y criado en el campo...</td>\n",
       "      <td>Czech astronaut Jakub Prochazka (Adam Sandler)...</td>\n",
       "      <td>107.0</td>\n",
       "    </tr>\n",
       "    <tr>\n",
       "      <th>3</th>\n",
       "      <td>tt11152168</td>\n",
       "      <td>6.4</td>\n",
       "      <td>[John Krasinski]</td>\n",
       "      <td>[John Krasinski]</td>\n",
       "      <td>[Cailey Fleming, Ryan Reynolds, John Krasinski]</td>\n",
       "      <td>Sigue a una niña que pasa por una experiencia ...</td>\n",
       "      <td>A 12 year old girl named Bea moves in with her...</td>\n",
       "      <td>104.0</td>\n",
       "    </tr>\n",
       "    <tr>\n",
       "      <th>4</th>\n",
       "      <td>tt11822244</td>\n",
       "      <td>8.8</td>\n",
       "      <td>[Baljit Singh Deo]</td>\n",
       "      <td>[Rana Ranbir]</td>\n",
       "      <td>[Karamjit Anmol, Raghveer Boli, Raaf Chaudhary]</td>\n",
       "      <td>Revolves around the Punjabi wedding culture.</td>\n",
       "      <td>None</td>\n",
       "      <td>NaN</td>\n",
       "    </tr>\n",
       "  </tbody>\n",
       "</table>\n",
       "</div>"
      ],
      "text/plain": [
       "           id  score                      directores  \\\n",
       "0  tt10579986    NaN                     [Rishiking]   \n",
       "1  tt10597228    NaN  [Erik Krefeld, Eddel Martinez]   \n",
       "2  tt11097384    5.7                   [Johan Renck]   \n",
       "3  tt11152168    6.4                [John Krasinski]   \n",
       "4  tt11822244    8.8              [Baljit Singh Deo]   \n",
       "\n",
       "                       guionistas  \\\n",
       "0                     [Rishiking]   \n",
       "1  [Stevie Kinchen, Erik Krefeld]   \n",
       "2    [Jaroslav Kalfar, Colby Day]   \n",
       "3                [John Krasinski]   \n",
       "4                   [Rana Ranbir]   \n",
       "\n",
       "                                           actores  \\\n",
       "0                                           [Byom]   \n",
       "1       [Aaron Jackson, Rose LaRue, Cassidy Reyes]   \n",
       "2        [Adam Sandler, Carey Mulligan, Paul Dano]   \n",
       "3  [Cailey Fleming, Ryan Reynolds, John Krasinski]   \n",
       "4  [Karamjit Anmol, Raghveer Boli, Raaf Chaudhary]   \n",
       "\n",
       "                                             resumen  \\\n",
       "0  Un alma supuestamente tiene como hija a una ch...   \n",
       "1  Esta es una historia sobre encontrar el valor ...   \n",
       "2  Jakub Procházka, huérfano y criado en el campo...   \n",
       "3  Sigue a una niña que pasa por una experiencia ...   \n",
       "4       Revolves around the Punjabi wedding culture.   \n",
       "\n",
       "                                            sinopsis  duracion  \n",
       "0                                               None     122.0  \n",
       "1                                               None      90.0  \n",
       "2  Czech astronaut Jakub Prochazka (Adam Sandler)...     107.0  \n",
       "3  A 12 year old girl named Bea moves in with her...     104.0  \n",
       "4                                               None       NaN  "
      ]
     },
     "execution_count": 105,
     "metadata": {},
     "output_type": "execute_result"
    }
   ],
   "source": [
    "df_scrap.head()"
   ]
  },
  {
   "cell_type": "code",
   "execution_count": 113,
   "metadata": {},
   "outputs": [],
   "source": [
    "df_final = df_filtrado.merge(right=df_scrap, left_on='id', right_on='id')"
   ]
  },
  {
   "cell_type": "code",
   "execution_count": 115,
   "metadata": {},
   "outputs": [],
   "source": [
    "df_final.to_csv('../data/datos_final.csv')"
   ]
  }
 ],
 "metadata": {
  "kernelspec": {
   "display_name": "proyecto4",
   "language": "python",
   "name": "python3"
  },
  "language_info": {
   "codemirror_mode": {
    "name": "ipython",
    "version": 3
   },
   "file_extension": ".py",
   "mimetype": "text/x-python",
   "name": "python",
   "nbconvert_exporter": "python",
   "pygments_lexer": "ipython3",
   "version": "3.12.7"
  }
 },
 "nbformat": 4,
 "nbformat_minor": 2
}
